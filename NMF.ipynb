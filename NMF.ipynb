{
 "cells": [
  {
   "cell_type": "code",
   "execution_count": 2,
   "id": "96b42c09-1dec-4df1-b0c6-25bcc395750e",
   "metadata": {},
   "outputs": [],
   "source": [
    "import numpy as np\n",
    "import pandas as pd\n",
    "import matplotlib.pyplot as plt\n",
    "import math"
   ]
  },
  {
   "cell_type": "code",
   "execution_count": 182,
   "id": "c4de036f",
   "metadata": {},
   "outputs": [],
   "source": [
    "class NMF:\n",
    "    \n",
    "    def __init__(self):\n",
    "        self.loss = []\n",
    "        self.V = 0\n",
    "        self.iteration = 0\n",
    "        self.W = 0\n",
    "        self.H = 0\n",
    "        \n",
    "    def Cost_function(A,B):\n",
    "        n,m = A.shape\n",
    "        cost = 0\n",
    "        for i in range(n):\n",
    "            for j in range(m):\n",
    "                cost += (A[i][j] - B[i][j])**2\n",
    "        return cost     \n",
    "    \n",
    "    def fit(self,V,r,iteration):\n",
    "        self.V = V\n",
    "        self.iteration = iteration\n",
    "        m,n = self.V.shape\n",
    "        #intialisation\n",
    "        W = np.random.randint(1,15,size=(m,r))\n",
    "        H = np.random.randint(1,5,size=(r,n))\n",
    "        for i in range(self.iteration):\n",
    "            H = np.multiply(H,(np.divide((np.dot(W.T,V)),(np.dot(W.T,np.dot(W,H))))))\n",
    "            W = np.multiply(W,(np.divide((np.dot(V,H.T)),(np.dot(W,np.dot(H,H.T))))))\n",
    "            self.loss.append(Cost_function(V,np.dot(W,H)))\n",
    "        self.W = W\n",
    "        self.H = H\n",
    "        \n",
    "    def plot_cost(self):\n",
    "        y =np.array(self.loss) \n",
    "        x = np.arange(0,self.iteration)\n",
    "        plt.title(\"cost\")\n",
    "        plt.xlabel(\"iter\")\n",
    "        plt.ylabel(\"Loss\")\n",
    "        plt.plot(x, y, color =\"red\")\n",
    "        plt.show()\n",
    "    \n",
    "    def get_factors(self):\n",
    "        return (self.W,self.H)\n",
    "    "
   ]
  },
  {
   "cell_type": "code",
   "execution_count": 183,
   "id": "2a80cbfb",
   "metadata": {},
   "outputs": [],
   "source": [
    "model = NMF()"
   ]
  },
  {
   "cell_type": "code",
   "execution_count": 184,
   "id": "0161cce6",
   "metadata": {},
   "outputs": [],
   "source": [
    "test = np.arange(1,51).reshape(10,5)\n",
    "\n",
    "model.fit(test,3,100)"
   ]
  },
  {
   "cell_type": "code",
   "execution_count": 185,
   "id": "03492f33",
   "metadata": {},
   "outputs": [
    {
     "data": {
      "image/png": "[encoded data removed]",
      "text/plain": [
       "<Figure size 432x288 with 1 Axes>"
      ]
     },
     "metadata": {
      "needs_background": "light"
     },
     "output_type": "display_data"
    }
   ],
   "source": [
    "model.plot_cost()"
   ]
  },
  {
   "cell_type": "code",
   "execution_count": 187,
   "id": "3828baba",
   "metadata": {},
   "outputs": [],
   "source": [
    "W,H = model.get_factors()"
   ]
  },
  {
   "cell_type": "code",
   "execution_count": 189,
   "id": "a97249c7",
   "metadata": {},
   "outputs": [
    {
     "data": {
      "text/plain": [
       "(10, 5)"
      ]
     },
     "execution_count": 189,
     "metadata": {},
     "output_type": "execute_result"
    }
   ],
   "source": [
    "(W@H).shape"
   ]
  },
  {
   "cell_type": "code",
   "execution_count": null,
   "id": "f975025c",
   "metadata": {},
   "outputs": [],
   "source": []
  }
 ],
 "metadata": {
  "kernelspec": {
   "display_name": "Python 3",
   "language": "python",
   "name": "python3"
  },
  "language_info": {
   "codemirror_mode": {
    "name": "ipython",
    "version": 3
   },
   "file_extension": ".py",
   "mimetype": "text/x-python",
   "name": "python",
   "nbconvert_exporter": "python",
   "pygments_lexer": "ipython3",
   "version": "3.8.8"
  }
 },
 "nbformat": 4,
 "nbformat_minor": 5
}
